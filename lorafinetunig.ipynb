{
 "cells": [
  {
   "cell_type": "code",
   "execution_count": null,
   "id": "146da119",
   "metadata": {
    "vscode": {
     "languageId": "plaintext"
    }
   },
   "outputs": [],
   "source": [
    "import os\n",
    "os.environ['KAGGLE_USERNAME'] = '<your_kaggle_username>'\n",
    "os.environ['KAGGLE_KEY'] = '<your_kaggle_key>'"
   ]
  },
  {
   "cell_type": "code",
   "execution_count": null,
   "id": "178fb8cc",
   "metadata": {
    "vscode": {
     "languageId": "plaintext"
    }
   },
   "outputs": [],
   "source": [
    "!pip install keras-nlp\n",
    "!pip install keras>=3.0.0"
   ]
  },
  {
   "cell_type": "code",
   "execution_count": null,
   "id": "88f419ce",
   "metadata": {
    "vscode": {
     "languageId": "plaintext"
    }
   },
   "outputs": [],
   "source": [
    "import keras\n",
    "keras.backend.set_backend('jax')"
   ]
  },
  {
   "cell_type": "code",
   "execution_count": null,
   "id": "b0f7dba2",
   "metadata": {
    "vscode": {
     "languageId": "plaintext"
    }
   },
   "outputs": [],
   "source": [
    "import os\n",
    "os.environ['XLA_PYTHON_CLIENT_MEM_FRACTION'] = '1.0'"
   ]
  },
  {
   "cell_type": "code",
   "execution_count": null,
   "id": "ba4c8884",
   "metadata": {
    "vscode": {
     "languageId": "plaintext"
    }
   },
   "outputs": [],
   "source": [
    "import json\n",
    "with open('databricks-dolly-15k.json', 'r') as f:\n",
    "    data = json.load(f)\n",
    "processed_data = []\n",
    "for item in data:\n",
    "    if 'context' not in item:\n",
    "        continue\n",
    "    processed_data.append({\n",
    "        'instruction': item['instruction'],\n",
    "        'response': item['context']\n",
    "    })\n",
    "top_1000_data = processed_data[:1000]"
   ]
  },
  {
   "cell_type": "code",
   "execution_count": null,
   "id": "a80820d2",
   "metadata": {
    "vscode": {
     "languageId": "plaintext"
    }
   },
   "outputs": [],
   "source": [
    "import keras_nlp\n",
    "model = keras_nlp.models.GemmaCausalLM.from_preset('gemma-2b')"
   ]
  },
  {
   "cell_type": "code",
   "execution_count": null,
   "id": "10b87fd9",
   "metadata": {
    "vscode": {
     "languageId": "plaintext"
    }
   },
   "outputs": [],
   "source": [
    "template = {'instruction': 'What should I do on a trip to Europe?', 'response': ''}\n",
    "sampler = keras_nlp.samplers.TopKSampler(k=5)\n",
    "model.compile(sampler=sampler)\n",
    "results = model.generate(template)"
   ]
  },
  {
   "cell_type": "code",
   "execution_count": null,
   "id": "d0123058",
   "metadata": {
    "vscode": {
     "languageId": "plaintext"
    }
   },
   "outputs": [],
   "source": [
    "template = {'instruction': 'Explain the process of photosynthesis in a way that a child could understand.', 'response': ''}\n",
    "results = model.generate(template)"
   ]
  },
  {
   "cell_type": "code",
   "execution_count": null,
   "id": "7b61ee73",
   "metadata": {
    "vscode": {
     "languageId": "plaintext"
    }
   },
   "outputs": [],
   "source": [
    "model.enable_lora(rank=4)\n",
    "model.summary()"
   ]
  },
  {
   "cell_type": "code",
   "execution_count": null,
   "id": "da82c08d",
   "metadata": {
    "vscode": {
     "languageId": "plaintext"
    }
   },
   "outputs": [],
   "source": [
    "from keras.optimizers import AdamW\n",
    "optimizer = AdamW(learning_rate=5e-4, weight_decay=0.01)\n",
    "model.compile(\n",
    "    loss=keras.losses.SparseCategoricalCrossentropy(from_logits=True),\n",
    "    optimizer=optimizer,\n",
    "    metrics=[keras.metrics.SparseCategoricalAccuracy()]\n",
    ")"
   ]
  },
  {
   "cell_type": "code",
   "execution_count": null,
   "id": "3c092cd6",
   "metadata": {
    "vscode": {
     "languageId": "plaintext"
    }
   },
   "outputs": [],
   "source": [
    "model.fit(top_1000_data, epochs=1, batch_size=1)"
   ]
  },
  {
   "cell_type": "code",
   "execution_count": null,
   "id": "08ad0488",
   "metadata": {
    "vscode": {
     "languageId": "plaintext"
    }
   },
   "outputs": [],
   "source": [
    "template = {'instruction': 'What should I do on a trip to Europe?', 'response': ''}\n",
    "results = model.generate(template)"
   ]
  },
  {
   "cell_type": "code",
   "execution_count": null,
   "id": "0ec9dc57",
   "metadata": {
    "vscode": {
     "languageId": "plaintext"
    }
   },
   "outputs": [],
   "source": [
    "template = {'instruction': 'Explain the process of photosynthesis in a way that a child could understand.', 'response': ''}\n",
    "results = model.generate(template)"
   ]
  },
  {
   "cell_type": "code",
   "execution_count": null,
   "id": "3ba54fdd",
   "metadata": {
    "vscode": {
     "languageId": "plaintext"
    }
   },
   "outputs": [],
   "source": []
  }
 ],
 "metadata": {
  "language_info": {
   "name": "python"
  }
 },
 "nbformat": 4,
 "nbformat_minor": 5
}
